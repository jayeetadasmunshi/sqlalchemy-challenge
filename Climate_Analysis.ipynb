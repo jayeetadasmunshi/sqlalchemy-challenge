{
 "cells": [
  {
   "cell_type": "markdown",
   "metadata": {},
   "source": [
    "# Surfs Up!\n",
    "## Climate Analysis and Exploration\n",
    "## Importing required libraries"
   ]
  },
  {
   "cell_type": "code",
   "execution_count": 1,
   "metadata": {},
   "outputs": [],
   "source": [
    "%matplotlib inline \n",
    "from matplotlib import style\n",
    "#FiveThirtyEight style of matplotlib\n",
    "style.use('fivethirtyeight') \n",
    "import matplotlib.pyplot as plt\n",
    "import numpy as np\n",
    "import pandas as pd # Pandas - Python data analysis library\n",
    "import datetime as dt # datetime module of Python"
   ]
  },
  {
   "cell_type": "markdown",
   "metadata": {},
   "source": [
    "# Reflect Tables into SQLAlchemy ORM"
   ]
  },
  {
   "cell_type": "code",
   "execution_count": 2,
   "metadata": {},
   "outputs": [],
   "source": [
    "# Python SQL toolkit and Object Relational Mapper\n",
    "import sqlalchemy # Python SQL toolkit and ORM\n",
    "from sqlalchemy.ext.automap import automap_base #Automatically generates mapped classes and relationships\n",
    "from sqlalchemy.orm import Session #Establishes conversations with the database & “holding zone” for objects\n",
    "from sqlalchemy import create_engine, func"
   ]
  },
  {
   "cell_type": "code",
   "execution_count": 3,
   "metadata": {},
   "outputs": [],
   "source": [
    "engine = create_engine(\"sqlite:///resources/hawaii.sqlite\",echo = False)"
   ]
  },
  {
   "cell_type": "markdown",
   "metadata": {},
   "source": [
    "# Let's inspect the database"
   ]
  },
  {
   "cell_type": "code",
   "execution_count": 4,
   "metadata": {},
   "outputs": [],
   "source": [
    "# Create the inspector and connect it to the engine\n",
    "from sqlalchemy import inspect\n",
    "inspector = inspect(engine)"
   ]
  },
  {
   "cell_type": "code",
   "execution_count": 5,
   "metadata": {},
   "outputs": [
    {
     "data": {
      "text/plain": [
       "['measurement', 'station']"
      ]
     },
     "execution_count": 5,
     "metadata": {},
     "output_type": "execute_result"
    }
   ],
   "source": [
    "# Collect the names of tables within the database\n",
    "inspector.get_table_names()"
   ]
  },
  {
   "cell_type": "code",
   "execution_count": 6,
   "metadata": {},
   "outputs": [
    {
     "name": "stdout",
     "output_type": "stream",
     "text": [
      "id INTEGER\n",
      "station TEXT\n",
      "date TEXT\n",
      "prcp FLOAT\n",
      "tobs FLOAT\n"
     ]
    }
   ],
   "source": [
    "# Get a list of column names and types from measurement table\n",
    "columns = inspector.get_columns('measurement')\n",
    "for col in columns:\n",
    "    print(col['name'], col[\"type\"])"
   ]
  },
  {
   "cell_type": "code",
   "execution_count": 7,
   "metadata": {},
   "outputs": [
    {
     "name": "stdout",
     "output_type": "stream",
     "text": [
      "id INTEGER\n",
      "station TEXT\n",
      "name TEXT\n",
      "latitude FLOAT\n",
      "longitude FLOAT\n",
      "elevation FLOAT\n"
     ]
    }
   ],
   "source": [
    "# Get a list of column names and types from station table\n",
    "columns = inspector.get_columns('station')\n",
    "for col in columns:\n",
    "    print(col['name'], col[\"type\"])"
   ]
  },
  {
   "cell_type": "markdown",
   "metadata": {},
   "source": [
    "# Reflecting the database into a new model"
   ]
  },
  {
   "cell_type": "code",
   "execution_count": 8,
   "metadata": {},
   "outputs": [],
   "source": [
    "# We create a  new AutomapBase class using automap_base()\n",
    "Base = automap_base()\n",
    "# reflect the tables\n",
    "Base.prepare(engine, reflect = True)"
   ]
  },
  {
   "cell_type": "code",
   "execution_count": 9,
   "metadata": {},
   "outputs": [
    {
     "data": {
      "text/plain": [
       "['measurement', 'station']"
      ]
     },
     "execution_count": 9,
     "metadata": {},
     "output_type": "execute_result"
    }
   ],
   "source": [
    "# We can view all of the classes that automap found\n",
    "Base.classes.keys()"
   ]
  },
  {
   "cell_type": "code",
   "execution_count": 10,
   "metadata": {},
   "outputs": [],
   "source": [
    "# Mapping measurement class\n",
    "Measurement = Base.classes.measurement\n",
    "# Mapping station class\n",
    "Station = Base.classes.station"
   ]
  },
  {
   "cell_type": "code",
   "execution_count": 11,
   "metadata": {},
   "outputs": [],
   "source": [
    "# Create our session (link) from Python to the DB\n",
    "session = Session(bind=engine)"
   ]
  },
  {
   "cell_type": "markdown",
   "metadata": {},
   "source": [
    "# Checking session connection for both the tables¶"
   ]
  },
  {
   "cell_type": "code",
   "execution_count": 12,
   "metadata": {},
   "outputs": [
    {
     "name": "stdout",
     "output_type": "stream",
     "text": [
      "(1, 'USC00519397', '2010-01-01', 0.08, 65.0)\n",
      "(2, 'USC00519397', '2010-01-02', 0.0, 63.0)\n",
      "(3, 'USC00519397', '2010-01-03', 0.0, 74.0)\n",
      "(4, 'USC00519397', '2010-01-04', 0.0, 76.0)\n",
      "(5, 'USC00519397', '2010-01-06', None, 73.0)\n"
     ]
    }
   ],
   "source": [
    "# Use the session to query Measurement table and display the first 5 rows\n",
    "session.flush() # Forcing a flush\n",
    "for row in session.query(Measurement.id, Measurement.station,Measurement.date,\n",
    "                         Measurement.prcp,Measurement.tobs).limit(5).all():\n",
    "    print(row)"
   ]
  },
  {
   "cell_type": "code",
   "execution_count": 13,
   "metadata": {},
   "outputs": [
    {
     "name": "stdout",
     "output_type": "stream",
     "text": [
      "(1, 'USC00519397', 'WAIKIKI 717.2, HI US', 21.2716, -157.8168, 3.0)\n",
      "(2, 'USC00513117', 'KANEOHE 838.1, HI US', 21.4234, -157.8015, 14.6)\n",
      "(3, 'USC00514830', 'KUALOA RANCH HEADQUARTERS 886.9, HI US', 21.5213, -157.8374, 7.0)\n",
      "(4, 'USC00517948', 'PEARL CITY, HI US', 21.3934, -157.9751, 11.9)\n",
      "(5, 'USC00518838', 'UPPER WAHIAWA 874.3, HI US', 21.4992, -158.0111, 306.6)\n"
     ]
    }
   ],
   "source": [
    "# Use the session to query Station table and display the first 5 rows\n",
    "session.flush() # Forcing a flush\n",
    "for row in session.query(Station.id, Station.station,Station.name,Station.latitude,\n",
    "                         Station.longitude,Station.elevation).limit(5).all():\n",
    "    print(row)"
   ]
  },
  {
   "cell_type": "markdown",
   "metadata": {},
   "source": [
    "# Exploratory Climate Analysis\n",
    "\n",
    "## Precipitation Analysis\n",
    "\n",
    "### Design a query to retrieve the last 12 months of precipitation data and plot the results"
   ]
  },
  {
   "cell_type": "code",
   "execution_count": 14,
   "metadata": {},
   "outputs": [
    {
     "name": "stdout",
     "output_type": "stream",
     "text": [
      "\u001b[1mThere are 19550 dates, earliest date: 2010-01-01 and latest date: 2017-08-23\u001b[0m\n"
     ]
    }
   ],
   "source": [
    "# Let's count the total dates we have\n",
    "total_dates = session.query(func.count(Measurement.date)).first()\n",
    "# Let's find the earliest date\n",
    "earliest_date = session.query(Measurement.date).order_by(Measurement.date).first()\n",
    "# Let's find the latest date\n",
    "latest_date = session.query(Measurement.date).order_by(Measurement.date.desc()).first()\n",
    "# Display the dates\n",
    "print('\\033[1m'+\"There are {} dates, earliest date: {} and latest date: {}\" .format(total_dates[0],earliest_date[0],latest_date[0])+'\\033[0m')"
   ]
  },
  {
   "cell_type": "code",
   "execution_count": 15,
   "metadata": {},
   "outputs": [
    {
     "name": "stdout",
     "output_type": "stream",
     "text": [
      "\u001b[1mDate one year back: 2016-08-23\u001b[0m\n"
     ]
    }
   ],
   "source": [
    "from datetime import timedelta\n",
    "# Let's find date 12 months before the latest day\n",
    "query_date = dt.date(2017, 8, 23) - dt.timedelta(days=365)\n",
    "# Display the date\n",
    "print('\\033[1m'+\"Date one year back: {}\" .format(query_date)+'\\033[0m')"
   ]
  },
  {
   "cell_type": "markdown",
   "metadata": {},
   "source": [
    "## Perform a query to retrieve the data and precipitation scores"
   ]
  },
  {
   "cell_type": "code",
   "execution_count": 16,
   "metadata": {},
   "outputs": [
    {
     "name": "stdout",
     "output_type": "stream",
     "text": [
      "('2016-08-23', 0.0)\n",
      "('2016-08-24', 0.08)\n",
      "('2016-08-25', 0.08)\n",
      "('2016-08-26', 0.0)\n",
      "('2016-08-27', 0.0)\n"
     ]
    }
   ],
   "source": [
    "# Quering \"date\" and \"precipitation\" from Measurement table from past one year\n",
    "Precipitation_one_year = session.query(Measurement.date, Measurement.prcp).filter(Measurement.date >= query_date)\n",
    "# Let's print the first 10 results from the query\n",
    "for row in Precipitation_one_year.limit(5).all():\n",
    "    print(row)"
   ]
  },
  {
   "cell_type": "markdown",
   "metadata": {},
   "source": [
    "## Creating a pandas dataframe"
   ]
  },
  {
   "cell_type": "code",
   "execution_count": 17,
   "metadata": {},
   "outputs": [
    {
     "name": "stdout",
     "output_type": "stream",
     "text": [
      "\u001b[1mThe shape of the precipitation dataframe is: (2230, 2)\u001b[0m\n"
     ]
    },
    {
     "data": {
      "text/html": [
       "<div>\n",
       "<style scoped>\n",
       "    .dataframe tbody tr th:only-of-type {\n",
       "        vertical-align: middle;\n",
       "    }\n",
       "\n",
       "    .dataframe tbody tr th {\n",
       "        vertical-align: top;\n",
       "    }\n",
       "\n",
       "    .dataframe thead th {\n",
       "        text-align: right;\n",
       "    }\n",
       "</style>\n",
       "<table border=\"1\" class=\"dataframe\">\n",
       "  <thead>\n",
       "    <tr style=\"text-align: right;\">\n",
       "      <th></th>\n",
       "      <th>Date</th>\n",
       "      <th>Precipitation</th>\n",
       "    </tr>\n",
       "  </thead>\n",
       "  <tbody>\n",
       "    <tr>\n",
       "      <th>0</th>\n",
       "      <td>2016-08-23</td>\n",
       "      <td>0.00</td>\n",
       "    </tr>\n",
       "    <tr>\n",
       "      <th>1</th>\n",
       "      <td>2016-08-24</td>\n",
       "      <td>0.08</td>\n",
       "    </tr>\n",
       "    <tr>\n",
       "      <th>2</th>\n",
       "      <td>2016-08-25</td>\n",
       "      <td>0.08</td>\n",
       "    </tr>\n",
       "    <tr>\n",
       "      <th>3</th>\n",
       "      <td>2016-08-26</td>\n",
       "      <td>0.00</td>\n",
       "    </tr>\n",
       "    <tr>\n",
       "      <th>4</th>\n",
       "      <td>2016-08-27</td>\n",
       "      <td>0.00</td>\n",
       "    </tr>\n",
       "  </tbody>\n",
       "</table>\n",
       "</div>"
      ],
      "text/plain": [
       "         Date  Precipitation\n",
       "0  2016-08-23           0.00\n",
       "1  2016-08-24           0.08\n",
       "2  2016-08-25           0.08\n",
       "3  2016-08-26           0.00\n",
       "4  2016-08-27           0.00"
      ]
     },
     "execution_count": 17,
     "metadata": {},
     "output_type": "execute_result"
    }
   ],
   "source": [
    "# Load the query results into a Pandas DataFrame \n",
    "df_prcp = pd.DataFrame(Precipitation_one_year, columns=['Date', 'Precipitation'])\n",
    "# Sorting the DataFrame values by `date`\n",
    "df_prcp.sort_values(by=\"Date\", ascending=False)\n",
    "# Display the precipitation dataframe\n",
    "print('\\033[1m'+\"The shape of the {} dataframe is: {}\" .format(\"precipitation\",df_prcp.shape)+'\\033[0m')\n",
    "df_prcp.head() # Display the first 5 rows of the dataframe"
   ]
  },
  {
   "cell_type": "markdown",
   "metadata": {},
   "source": [
    "## Making Date column as the index of the dataframe"
   ]
  },
  {
   "cell_type": "code",
   "execution_count": 18,
   "metadata": {},
   "outputs": [
    {
     "name": "stdout",
     "output_type": "stream",
     "text": [
      "\u001b[1mThe shape of the final precipitation dataframe is: (2230, 1)\u001b[0m\n"
     ]
    },
    {
     "data": {
      "text/html": [
       "<div>\n",
       "<style scoped>\n",
       "    .dataframe tbody tr th:only-of-type {\n",
       "        vertical-align: middle;\n",
       "    }\n",
       "\n",
       "    .dataframe tbody tr th {\n",
       "        vertical-align: top;\n",
       "    }\n",
       "\n",
       "    .dataframe thead th {\n",
       "        text-align: right;\n",
       "    }\n",
       "</style>\n",
       "<table border=\"1\" class=\"dataframe\">\n",
       "  <thead>\n",
       "    <tr style=\"text-align: right;\">\n",
       "      <th></th>\n",
       "      <th>Precipitation</th>\n",
       "    </tr>\n",
       "    <tr>\n",
       "      <th>Date</th>\n",
       "      <th></th>\n",
       "    </tr>\n",
       "  </thead>\n",
       "  <tbody>\n",
       "    <tr>\n",
       "      <th>2016-08-23</th>\n",
       "      <td>0.00</td>\n",
       "    </tr>\n",
       "    <tr>\n",
       "      <th>2016-08-24</th>\n",
       "      <td>0.08</td>\n",
       "    </tr>\n",
       "    <tr>\n",
       "      <th>2016-08-25</th>\n",
       "      <td>0.08</td>\n",
       "    </tr>\n",
       "    <tr>\n",
       "      <th>2016-08-26</th>\n",
       "      <td>0.00</td>\n",
       "    </tr>\n",
       "    <tr>\n",
       "      <th>2016-08-27</th>\n",
       "      <td>0.00</td>\n",
       "    </tr>\n",
       "  </tbody>\n",
       "</table>\n",
       "</div>"
      ],
      "text/plain": [
       "            Precipitation\n",
       "Date                     \n",
       "2016-08-23           0.00\n",
       "2016-08-24           0.08\n",
       "2016-08-25           0.08\n",
       "2016-08-26           0.00\n",
       "2016-08-27           0.00"
      ]
     },
     "execution_count": 18,
     "metadata": {},
     "output_type": "execute_result"
    }
   ],
   "source": [
    "# Dropping missing values from the dataframe\n",
    "df_prcp.dropna(how='all',inplace = True)\n",
    "# Let's convert the \"Date\" column to its proper format\n",
    "df_prcp[\"Date\"] = pd.to_datetime(df_prcp[\"Date\"])\n",
    "# Let's set the index to the date column\n",
    "df_prcp.set_index(\"Date\", inplace=True)\n",
    "# Check if duplicate rows are dropped from the dataframe\n",
    "print('\\033[1m'+\"The shape of the final {} dataframe is: {}\" .format(\"precipitation\",df_prcp.shape)+'\\033[0m')\n",
    "df_prcp.head()"
   ]
  },
  {
   "cell_type": "code",
   "execution_count": 20,
   "metadata": {},
   "outputs": [
    {
     "data": {
      "image/png": "[encoded data removed]",
      "text/plain": [
       "<Figure size 720x576 with 1 Axes>"
      ]
     },
     "metadata": {},
     "output_type": "display_data"
    }
   ],
   "source": [
    "import matplotlib.dates as mdates\n",
    "from matplotlib.dates import DateFormatter\n",
    "from datetime import timedelta\n",
    "# Handle date time conversions between pandas and matplotlib\n",
    "from pandas.plotting import register_matplotlib_converters\n",
    "register_matplotlib_converters()\n",
    "\n",
    "# Create figure and plot space\n",
    "fig, ax = plt.subplots(figsize=(10, 8))\n",
    "\n",
    "ax.bar(df_prcp.index, df_prcp[\"Precipitation\"],color = \"blue\", edgecolor=\"white\",width = 9)\n",
    "# Customize axis labels\n",
    "ax.tick_params(axis='both', which='major', labelsize=16)\n",
    "# Customize axis spine\n",
    "for spine in ax.spines.values():\n",
    "    spine.set_edgecolor('blue')\n",
    "for tick in ax.get_xticklabels():\n",
    "    tick.set_color('black')\n",
    "for tick in ax.get_yticklabels():\n",
    "    tick.set_color('black')    \n",
    "    \n",
    "# Set title and labels for axes\n",
    "ax.set_xlabel(\"Date\",color = \"black\",fontweight = \"bold\")\n",
    "ax.set_ylabel(\"Precipitation (inches)\",color=\"black\",fontweight =\"bold\")\n",
    "ax.set_title(\"Bar Chart of Daily Precipitation\\n23rd August 2016 - 23rd August 2017\",color=\"blue\",fontweight = \"bold\")\n",
    "\n",
    "plt.grid(color=\"lightblue\",linestyle = \"solid\",linewidth = 2)\n",
    "\n",
    "#Define the date format\n",
    "date_form = DateFormatter(\"%m-%d-%Y\")\n",
    "ax.xaxis.set_major_formatter(date_form)\n",
    "# Create upper date limit for x-axis\n",
    "x_lim_date = dt.date(2017, 8, 23) + dt.timedelta(days=10)\n",
    "ax.set_xlim(query_date,x_lim_date)\n",
    "\n",
    "# Rotates and right aligns the x labels & moves the bottom of the axes to make room \n",
    "fig.autofmt_xdate()\n",
    "plt.tight_layout()\n",
    "# Save the figure\n",
    "plt.savefig(\"Images/BarChart_Daily_Prcp.png\")\n",
    "plt.show()\n"
   ]
  },
  {
   "cell_type": "markdown",
   "metadata": {},
   "source": [
    "## Creating a summary statistics for the precipitation data¶"
   ]
  },
  {
   "cell_type": "code",
   "execution_count": 21,
   "metadata": {},
   "outputs": [
    {
     "name": "stdout",
     "output_type": "stream",
     "text": [
      "\u001b[1mShape of statistics dataframe for precipitation data is:(8, 1)\u001b[0m\n"
     ]
    },
    {
     "data": {
      "text/html": [
       "<div>\n",
       "<style scoped>\n",
       "    .dataframe tbody tr th:only-of-type {\n",
       "        vertical-align: middle;\n",
       "    }\n",
       "\n",
       "    .dataframe tbody tr th {\n",
       "        vertical-align: top;\n",
       "    }\n",
       "\n",
       "    .dataframe thead th {\n",
       "        text-align: right;\n",
       "    }\n",
       "</style>\n",
       "<table border=\"1\" class=\"dataframe\">\n",
       "  <thead>\n",
       "    <tr style=\"text-align: right;\">\n",
       "      <th></th>\n",
       "      <th>One_year_precipitation</th>\n",
       "    </tr>\n",
       "  </thead>\n",
       "  <tbody>\n",
       "    <tr>\n",
       "      <th>count</th>\n",
       "      <td>2021.00</td>\n",
       "    </tr>\n",
       "    <tr>\n",
       "      <th>mean</th>\n",
       "      <td>0.18</td>\n",
       "    </tr>\n",
       "    <tr>\n",
       "      <th>std</th>\n",
       "      <td>0.46</td>\n",
       "    </tr>\n",
       "    <tr>\n",
       "      <th>min</th>\n",
       "      <td>0.00</td>\n",
       "    </tr>\n",
       "    <tr>\n",
       "      <th>25%</th>\n",
       "      <td>0.00</td>\n",
       "    </tr>\n",
       "    <tr>\n",
       "      <th>50%</th>\n",
       "      <td>0.02</td>\n",
       "    </tr>\n",
       "    <tr>\n",
       "      <th>75%</th>\n",
       "      <td>0.13</td>\n",
       "    </tr>\n",
       "    <tr>\n",
       "      <th>max</th>\n",
       "      <td>6.70</td>\n",
       "    </tr>\n",
       "  </tbody>\n",
       "</table>\n",
       "</div>"
      ],
      "text/plain": [
       "      One_year_precipitation\n",
       "count                2021.00\n",
       "mean                    0.18\n",
       "std                     0.46\n",
       "min                     0.00\n",
       "25%                     0.00\n",
       "50%                     0.02\n",
       "75%                     0.13\n",
       "max                     6.70"
      ]
     },
     "execution_count": 21,
     "metadata": {},
     "output_type": "execute_result"
    }
   ],
   "source": [
    "# Padas.dataframe.describe generates descriptive statistics \n",
    "statistics = df_prcp.describe(include = [np.number])\n",
    "# Let's make a dataframe from the summary statistics\n",
    "df_statistics = pd.DataFrame(statistics)\n",
    "# Formatting the float column\n",
    "df_statistics = df_statistics.applymap(\"{0:.2f}\".format)\n",
    "# Rename the column\n",
    "df_statistics.rename(columns={\"Precipitation\": \"One_year_precipitation\"}, inplace=True)\n",
    "print('\\033[1m'+\"Shape of statistics dataframe for precipitation data is:{}\" .format(df_statistics.shape)+'\\033[0m')\n",
    "df_statistics"
   ]
  },
  {
   "cell_type": "markdown",
   "metadata": {},
   "source": [
    "# Station Analysis\n",
    "\n",
    "### Design a query to calculate the total number of stations."
   ]
  },
  {
   "cell_type": "code",
   "execution_count": 22,
   "metadata": {},
   "outputs": [
    {
     "name": "stdout",
     "output_type": "stream",
     "text": [
      "\u001b[1mThere are 9 stations and 9 distinct stations\u001b[0m\n"
     ]
    }
   ],
   "source": [
    "from sqlalchemy import distinct,func\n",
    "# Let's count the total stations available in the dataset\n",
    "total_stations = session.query(func.count(Station.station)).first()\n",
    "distinct_stations = session.query(func.count(distinct(Station.station))).first()\n",
    "# Display the count of total stations\n",
    "print('\\033[1m'+\"There are {} stations and {} distinct stations\" .format(total_stations[0],distinct_stations[0])+'\\033[0m')"
   ]
  },
  {
   "cell_type": "markdown",
   "metadata": {},
   "source": [
    "# What are the most active stations? (i.e. what stations have the most rows)?\n",
    "\n",
    "### List the stations and the counts in descending order."
   ]
  },
  {
   "cell_type": "code",
   "execution_count": 23,
   "metadata": {},
   "outputs": [
    {
     "name": "stdout",
     "output_type": "stream",
     "text": [
      "\u001b[1mThe shape of active stations dataframe is: (9, 2)\u001b[0m\n"
     ]
    },
    {
     "data": {
      "text/html": [
       "<div>\n",
       "<style scoped>\n",
       "    .dataframe tbody tr th:only-of-type {\n",
       "        vertical-align: middle;\n",
       "    }\n",
       "\n",
       "    .dataframe tbody tr th {\n",
       "        vertical-align: top;\n",
       "    }\n",
       "\n",
       "    .dataframe thead th {\n",
       "        text-align: right;\n",
       "    }\n",
       "</style>\n",
       "<table border=\"1\" class=\"dataframe\">\n",
       "  <thead>\n",
       "    <tr style=\"text-align: right;\">\n",
       "      <th></th>\n",
       "      <th>Station</th>\n",
       "      <th>Count</th>\n",
       "    </tr>\n",
       "  </thead>\n",
       "  <tbody>\n",
       "    <tr>\n",
       "      <th>0</th>\n",
       "      <td>USC00519281</td>\n",
       "      <td>2772</td>\n",
       "    </tr>\n",
       "    <tr>\n",
       "      <th>1</th>\n",
       "      <td>USC00519397</td>\n",
       "      <td>2724</td>\n",
       "    </tr>\n",
       "    <tr>\n",
       "      <th>2</th>\n",
       "      <td>USC00513117</td>\n",
       "      <td>2709</td>\n",
       "    </tr>\n",
       "    <tr>\n",
       "      <th>3</th>\n",
       "      <td>USC00519523</td>\n",
       "      <td>2669</td>\n",
       "    </tr>\n",
       "    <tr>\n",
       "      <th>4</th>\n",
       "      <td>USC00516128</td>\n",
       "      <td>2612</td>\n",
       "    </tr>\n",
       "    <tr>\n",
       "      <th>5</th>\n",
       "      <td>USC00514830</td>\n",
       "      <td>2202</td>\n",
       "    </tr>\n",
       "    <tr>\n",
       "      <th>6</th>\n",
       "      <td>USC00511918</td>\n",
       "      <td>1979</td>\n",
       "    </tr>\n",
       "    <tr>\n",
       "      <th>7</th>\n",
       "      <td>USC00517948</td>\n",
       "      <td>1372</td>\n",
       "    </tr>\n",
       "    <tr>\n",
       "      <th>8</th>\n",
       "      <td>USC00518838</td>\n",
       "      <td>511</td>\n",
       "    </tr>\n",
       "  </tbody>\n",
       "</table>\n",
       "</div>"
      ],
      "text/plain": [
       "       Station  Count\n",
       "0  USC00519281   2772\n",
       "1  USC00519397   2724\n",
       "2  USC00513117   2709\n",
       "3  USC00519523   2669\n",
       "4  USC00516128   2612\n",
       "5  USC00514830   2202\n",
       "6  USC00511918   1979\n",
       "7  USC00517948   1372\n",
       "8  USC00518838    511"
      ]
     },
     "execution_count": 23,
     "metadata": {},
     "output_type": "execute_result"
    }
   ],
   "source": [
    "# Let's design a query grouped by measurement stations and arranged in descending order\n",
    "active_stations = session.query(Measurement.station,func.count(Measurement.station)).\\\n",
    "                        group_by(Measurement.station).\\\n",
    "                         order_by(func.count(Measurement.station).desc()).all()\n",
    "# Load the query results into a Pandas DataFrame \n",
    "df_active_stations = pd.DataFrame(active_stations, columns=['Station', 'Count'])\n",
    "# Display the active stations dataframe\n",
    "print('\\033[1m'+\"The shape of {} dataframe is: {}\" .format(\"active stations\",df_active_stations.shape)+'\\033[0m')\n",
    "df_active_stations"
   ]
  },
  {
   "cell_type": "markdown",
   "metadata": {},
   "source": [
    "## Calculate the lowest temperature, highest temperature and average temperature from the most active station\n"
   ]
  },
  {
   "cell_type": "code",
   "execution_count": 25,
   "metadata": {},
   "outputs": [
    {
     "name": "stdout",
     "output_type": "stream",
     "text": [
      "\u001b[1mThe most active station is: USC00519281\u001b[0m\n"
     ]
    }
   ],
   "source": [
    "# Let's get the most active station from the previous dataframe\n",
    "most_active_station = df_active_stations.iloc[0,0]\n",
    "# Display the active stations dataframe\n",
    "print('\\033[1m'+\"The most active station is: {}\" .format(most_active_station)+'\\033[0m')"
   ]
  },
  {
   "cell_type": "code",
   "execution_count": 26,
   "metadata": {},
   "outputs": [
    {
     "name": "stdout",
     "output_type": "stream",
     "text": [
      "\u001b[1mObserved temperatures from USC00519281 : Maximum 85.0F; Minimum 54.0F\u001b[0m\n"
     ]
    }
   ],
   "source": [
    "# Let's order the observed temperatures from Station # USC00519281 to check maximum and minimum values\n",
    "Max_Temp = session.query(Measurement.tobs).\\\n",
    "                filter(Measurement.station == most_active_station).\\\n",
    "                 order_by(Measurement.tobs.desc()).limit(1).first()\n",
    "Min_Temp = session.query(Measurement.tobs).\\\n",
    "                filter(Measurement.station == most_active_station).\\\n",
    "                 order_by(Measurement.tobs.asc()).limit(1).first()\n",
    "# Display the maximum and minimum temperatures from the most active station\n",
    "print('\\033[1m'+\"Observed temperatures from {} : Maximum {}F; Minimum {}F\" .format(most_active_station,Max_Temp[0],Min_Temp[0])+'\\033[0m')"
   ]
  },
  {
   "cell_type": "code",
   "execution_count": 27,
   "metadata": {},
   "outputs": [
    {
     "data": {
      "text/html": [
       "<div>\n",
       "<style scoped>\n",
       "    .dataframe tbody tr th:only-of-type {\n",
       "        vertical-align: middle;\n",
       "    }\n",
       "\n",
       "    .dataframe tbody tr th {\n",
       "        vertical-align: top;\n",
       "    }\n",
       "\n",
       "    .dataframe thead th {\n",
       "        text-align: right;\n",
       "    }\n",
       "</style>\n",
       "<table border=\"1\" class=\"dataframe\">\n",
       "  <thead>\n",
       "    <tr style=\"text-align: right;\">\n",
       "      <th></th>\n",
       "      <th>Most Active Station</th>\n",
       "      <th>Max. Temp(F)</th>\n",
       "      <th>Min. Temp(F)</th>\n",
       "      <th>Avg. Temp(F)</th>\n",
       "    </tr>\n",
       "  </thead>\n",
       "  <tbody>\n",
       "    <tr>\n",
       "      <th>0</th>\n",
       "      <td>USC00519281</td>\n",
       "      <td>85.0</td>\n",
       "      <td>54.0</td>\n",
       "      <td>71.66</td>\n",
       "    </tr>\n",
       "  </tbody>\n",
       "</table>\n",
       "</div>"
      ],
      "text/plain": [
       "  Most Active Station  Max. Temp(F)  Min. Temp(F)  Avg. Temp(F)\n",
       "0         USC00519281          85.0          54.0         71.66"
      ]
     },
     "execution_count": 27,
     "metadata": {},
     "output_type": "execute_result"
    }
   ],
   "source": [
    "# Let's get the maximum, minimum and average temperatures using function method\n",
    "from sqlalchemy import func\n",
    "Max_Temp = session.query(func.max(Measurement.tobs).label(\"Max_Temp\")).\\\n",
    "                filter(Measurement.station == most_active_station).first()\n",
    "Min_Temp = session.query(func.min(Measurement.tobs).label(\"Min_Temp\")).\\\n",
    "                filter(Measurement.station == most_active_station).first()\n",
    "Avg_Temp = session.query(func.avg(Measurement.tobs).label(\"Avg_Temp\")).\\\n",
    "                filter(Measurement.station == most_active_station).first()\n",
    "data_list = [[most_active_station,Max_Temp[0],Min_Temp[0],round(Avg_Temp[0],2)]]\n",
    "df_most_active_station = pd.DataFrame(data_list,columns = [\"Most Active Station\",\"Max. Temp(F)\",\"Min. Temp(F)\",\"Avg. Temp(F)\"])\n",
    "df_most_active_station"
   ]
  },
  {
   "cell_type": "markdown",
   "metadata": {},
   "source": [
    "### Choose the station with the highest number of temperature observations."
   ]
  },
  {
   "cell_type": "code",
   "execution_count": 29,
   "metadata": {},
   "outputs": [
    {
     "name": "stdout",
     "output_type": "stream",
     "text": [
      "\u001b[1mThe shape of temperature stations dataframe is: (9, 2)\u001b[0m\n"
     ]
    },
    {
     "data": {
      "text/html": [
       "<div>\n",
       "<style scoped>\n",
       "    .dataframe tbody tr th:only-of-type {\n",
       "        vertical-align: middle;\n",
       "    }\n",
       "\n",
       "    .dataframe tbody tr th {\n",
       "        vertical-align: top;\n",
       "    }\n",
       "\n",
       "    .dataframe thead th {\n",
       "        text-align: right;\n",
       "    }\n",
       "</style>\n",
       "<table border=\"1\" class=\"dataframe\">\n",
       "  <thead>\n",
       "    <tr style=\"text-align: right;\">\n",
       "      <th></th>\n",
       "      <th>Station</th>\n",
       "      <th>Count</th>\n",
       "    </tr>\n",
       "  </thead>\n",
       "  <tbody>\n",
       "    <tr>\n",
       "      <th>0</th>\n",
       "      <td>USC00519281</td>\n",
       "      <td>2772</td>\n",
       "    </tr>\n",
       "    <tr>\n",
       "      <th>1</th>\n",
       "      <td>USC00519397</td>\n",
       "      <td>2724</td>\n",
       "    </tr>\n",
       "    <tr>\n",
       "      <th>2</th>\n",
       "      <td>USC00513117</td>\n",
       "      <td>2709</td>\n",
       "    </tr>\n",
       "    <tr>\n",
       "      <th>3</th>\n",
       "      <td>USC00519523</td>\n",
       "      <td>2669</td>\n",
       "    </tr>\n",
       "    <tr>\n",
       "      <th>4</th>\n",
       "      <td>USC00516128</td>\n",
       "      <td>2612</td>\n",
       "    </tr>\n",
       "    <tr>\n",
       "      <th>5</th>\n",
       "      <td>USC00514830</td>\n",
       "      <td>2202</td>\n",
       "    </tr>\n",
       "    <tr>\n",
       "      <th>6</th>\n",
       "      <td>USC00511918</td>\n",
       "      <td>1979</td>\n",
       "    </tr>\n",
       "    <tr>\n",
       "      <th>7</th>\n",
       "      <td>USC00517948</td>\n",
       "      <td>1372</td>\n",
       "    </tr>\n",
       "    <tr>\n",
       "      <th>8</th>\n",
       "      <td>USC00518838</td>\n",
       "      <td>511</td>\n",
       "    </tr>\n",
       "  </tbody>\n",
       "</table>\n",
       "</div>"
      ],
      "text/plain": [
       "       Station  Count\n",
       "0  USC00519281   2772\n",
       "1  USC00519397   2724\n",
       "2  USC00513117   2709\n",
       "3  USC00519523   2669\n",
       "4  USC00516128   2612\n",
       "5  USC00514830   2202\n",
       "6  USC00511918   1979\n",
       "7  USC00517948   1372\n",
       "8  USC00518838    511"
      ]
     },
     "execution_count": 29,
     "metadata": {},
     "output_type": "execute_result"
    }
   ],
   "source": [
    "# Let's design a query grouped by temperature observations and arranged in descending order\n",
    "temp_stations = session.query(Measurement.station,func.count(Measurement.tobs)).\\\n",
    "                        group_by(Measurement.station).\\\n",
    "                         order_by(func.count(Measurement.tobs).desc()).all()\n",
    "# Load the query results into a Pandas DataFrame \n",
    "df_temp_stations = pd.DataFrame(temp_stations, columns=['Station', 'Count'])\n",
    "# Display the active stations dataframe\n",
    "print('\\033[1m'+\"The shape of {} dataframe is: {}\" .format(\"temperature stations\",df_temp_stations.shape)+'\\033[0m')\n",
    "df_temp_stations"
   ]
  },
  {
   "cell_type": "markdown",
   "metadata": {},
   "source": [
    "### Query the last 12 months of temperature observation data for this station"
   ]
  },
  {
   "cell_type": "code",
   "execution_count": 30,
   "metadata": {},
   "outputs": [
    {
     "name": "stdout",
     "output_type": "stream",
     "text": [
      "\u001b[1mShape of USC00519281 dataframe with temperature readings for past 12 months: (352, 2)\u001b[0m\n"
     ]
    },
    {
     "data": {
      "text/html": [
       "<div>\n",
       "<style scoped>\n",
       "    .dataframe tbody tr th:only-of-type {\n",
       "        vertical-align: middle;\n",
       "    }\n",
       "\n",
       "    .dataframe tbody tr th {\n",
       "        vertical-align: top;\n",
       "    }\n",
       "\n",
       "    .dataframe thead th {\n",
       "        text-align: right;\n",
       "    }\n",
       "</style>\n",
       "<table border=\"1\" class=\"dataframe\">\n",
       "  <thead>\n",
       "    <tr style=\"text-align: right;\">\n",
       "      <th></th>\n",
       "      <th>Date</th>\n",
       "      <th>Temperature</th>\n",
       "    </tr>\n",
       "  </thead>\n",
       "  <tbody>\n",
       "    <tr>\n",
       "      <th>0</th>\n",
       "      <td>2016-08-23</td>\n",
       "      <td>77.0</td>\n",
       "    </tr>\n",
       "    <tr>\n",
       "      <th>1</th>\n",
       "      <td>2016-08-24</td>\n",
       "      <td>77.0</td>\n",
       "    </tr>\n",
       "    <tr>\n",
       "      <th>2</th>\n",
       "      <td>2016-08-25</td>\n",
       "      <td>80.0</td>\n",
       "    </tr>\n",
       "    <tr>\n",
       "      <th>3</th>\n",
       "      <td>2016-08-26</td>\n",
       "      <td>80.0</td>\n",
       "    </tr>\n",
       "    <tr>\n",
       "      <th>4</th>\n",
       "      <td>2016-08-27</td>\n",
       "      <td>75.0</td>\n",
       "    </tr>\n",
       "  </tbody>\n",
       "</table>\n",
       "</div>"
      ],
      "text/plain": [
       "         Date  Temperature\n",
       "0  2016-08-23         77.0\n",
       "1  2016-08-24         77.0\n",
       "2  2016-08-25         80.0\n",
       "3  2016-08-26         80.0\n",
       "4  2016-08-27         75.0"
      ]
     },
     "execution_count": 30,
     "metadata": {},
     "output_type": "execute_result"
    }
   ],
   "source": [
    "# Let's get the most active station from the previous dataframe\n",
    "most_temp_station = df_temp_stations.iloc[0,0]\n",
    "# Quering \"date\" and \"precipitation\" from Measurement table from past one year\n",
    "Temp_one_year = session.query(Measurement.date, Measurement.tobs).\\\n",
    "                        filter(Measurement.date >= query_date).\\\n",
    "                        filter(Measurement.station == most_temp_station)\n",
    "# Load the query results into a Pandas DataFrame \n",
    "df_temp = pd.DataFrame(Temp_one_year, columns=['Date', 'Temperature'])\n",
    "# Display the active stations dataframe\n",
    "print('\\033[1m'+\"Shape of {} dataframe with temperature readings for past 12 months: {}\" .format(most_temp_station,df_temp.shape)+'\\033[0m')\n",
    "df_temp.head() # Display the first 5 rows\n"
   ]
  },
  {
   "cell_type": "markdown",
   "metadata": {},
   "source": [
    "### Create a histogram of the observed temperature data"
   ]
  },
  {
   "cell_type": "code",
   "execution_count": 31,
   "metadata": {},
   "outputs": [
    {
     "data": {
      "image/png": "[encoded data removed]",
      "text/plain": [
       "<Figure size 720x576 with 1 Axes>"
      ]
     },
     "metadata": {},
     "output_type": "display_data"
    }
   ],
   "source": [
    "import numpy as np\n",
    "import matplotlib.pyplot as plt\n",
    "\n",
    "# Create figure and plot space\n",
    "fig, ax = plt.subplots(figsize=(10, 8))\n",
    "# Define the number of bins\n",
    "number_of_bins = 12\n",
    "# Define the data\n",
    "x = df_temp[\"Temperature\"]\n",
    "# Create the plot\n",
    "n, bins, patches = ax.hist(x, color=\"blue\", bins=number_of_bins, align=\"left\",alpha=0.8,rwidth = 0.95)\n",
    "# Customize axis labels\n",
    "ax.tick_params(axis='both', which='major', labelsize=16)\n",
    "# Customize axis spine\n",
    "for spine in ax.spines.values():\n",
    "    spine.set_edgecolor('blue')\n",
    "for tick in ax.get_xticklabels():\n",
    "    tick.set_color('black')\n",
    "for tick in ax.get_yticklabels():\n",
    "    tick.set_color('black')    \n",
    "    \n",
    "# Set title and labels for axes\n",
    "ax.set_xlabel(\"Temperature\",color = \"black\",fontweight = \"bold\")\n",
    "ax.set_ylabel(\"Frequency\",color=\"black\",fontweight =\"bold\")\n",
    "ax.set_title(\"Histogram of Observed Temperature\\n23rd August 2016 - 23rd August 2017\",color=\"blue\",fontweight = \"bold\")\n",
    "\n",
    "plt.grid(color=\"lightblue\",linestyle = \"solid\",linewidth = 2)\n",
    "plt.tight_layout()\n",
    "# Save the figure\n",
    "plt.savefig(\"Images/Histogram_Obs_Temp.png\")\n",
    "plt.show()"
   ]
  },
  {
   "cell_type": "markdown",
   "metadata": {},
   "source": [
    "# Bonus: Temperature Analysis I\n",
    "\n",
    "## Hawaii is reputed to enjoy mild weather all year. Is there a meaningful difference between the temperature in, for example, June and December?\n",
    "\n",
    "### Identify the average temperature in June from all stations across all available years in the dataset"
   ]
  },
  {
   "cell_type": "code",
   "execution_count": 32,
   "metadata": {},
   "outputs": [
    {
     "data": {
      "text/html": [
       "<div>\n",
       "<style scoped>\n",
       "    .dataframe tbody tr th:only-of-type {\n",
       "        vertical-align: middle;\n",
       "    }\n",
       "\n",
       "    .dataframe tbody tr th {\n",
       "        vertical-align: top;\n",
       "    }\n",
       "\n",
       "    .dataframe thead th {\n",
       "        text-align: right;\n",
       "    }\n",
       "</style>\n",
       "<table border=\"1\" class=\"dataframe\">\n",
       "  <thead>\n",
       "    <tr style=\"text-align: right;\">\n",
       "      <th></th>\n",
       "      <th>Avg. Precipitation</th>\n",
       "      <th>Avg. Temperature</th>\n",
       "    </tr>\n",
       "  </thead>\n",
       "  <tbody>\n",
       "    <tr>\n",
       "      <th>0</th>\n",
       "      <td>0.13636</td>\n",
       "      <td>74.944118</td>\n",
       "    </tr>\n",
       "  </tbody>\n",
       "</table>\n",
       "</div>"
      ],
      "text/plain": [
       "   Avg. Precipitation  Avg. Temperature\n",
       "0             0.13636         74.944118"
      ]
     },
     "execution_count": 32,
     "metadata": {},
     "output_type": "execute_result"
    }
   ],
   "source": [
    "# Let's design a query of average temperature and average precipitation in June across all available years\n",
    "June_weather = session.query(func.avg(Measurement.prcp),func.avg(Measurement.tobs)).\\\n",
    "                           filter(func.strftime(\"%m\", Measurement.date) == \"06\").all()\n",
    "# Load the query results into a Pandas DataFrame \n",
    "df_June = pd.DataFrame(June_weather, columns=['Avg. Precipitation', 'Avg. Temperature'])\n",
    "# Display the average June weather dataframe\n",
    "df_June"
   ]
  },
  {
   "cell_type": "markdown",
   "metadata": {},
   "source": [
    "## Identify the average temperature in December from all stations across all available years in the dataset"
   ]
  },
  {
   "cell_type": "code",
   "execution_count": 33,
   "metadata": {},
   "outputs": [
    {
     "data": {
      "text/html": [
       "<div>\n",
       "<style scoped>\n",
       "    .dataframe tbody tr th:only-of-type {\n",
       "        vertical-align: middle;\n",
       "    }\n",
       "\n",
       "    .dataframe tbody tr th {\n",
       "        vertical-align: top;\n",
       "    }\n",
       "\n",
       "    .dataframe thead th {\n",
       "        text-align: right;\n",
       "    }\n",
       "</style>\n",
       "<table border=\"1\" class=\"dataframe\">\n",
       "  <thead>\n",
       "    <tr style=\"text-align: right;\">\n",
       "      <th></th>\n",
       "      <th>Avg. Precipitation</th>\n",
       "      <th>Avg. Temperature</th>\n",
       "    </tr>\n",
       "  </thead>\n",
       "  <tbody>\n",
       "    <tr>\n",
       "      <th>0</th>\n",
       "      <td>0.216819</td>\n",
       "      <td>71.041529</td>\n",
       "    </tr>\n",
       "  </tbody>\n",
       "</table>\n",
       "</div>"
      ],
      "text/plain": [
       "   Avg. Precipitation  Avg. Temperature\n",
       "0            0.216819         71.041529"
      ]
     },
     "execution_count": 33,
     "metadata": {},
     "output_type": "execute_result"
    }
   ],
   "source": [
    "# Let's design a query of average temperature and average precipitation in June across all available years\n",
    "Dec_weather = session.query(func.avg(Measurement.prcp),func.avg(Measurement.tobs)).\\\n",
    "                           filter(func.strftime(\"%m\", Measurement.date) == \"12\").all()\n",
    "# Load the query results into a Pandas DataFrame \n",
    "df_Dec = pd.DataFrame(Dec_weather, columns=['Avg. Precipitation', 'Avg. Temperature'])\n",
    "# Display the average June weather dataframe\n",
    "df_Dec"
   ]
  },
  {
   "cell_type": "markdown",
   "metadata": {},
   "source": [
    "# Paired vs. Unpaired t-test\n",
    "\n",
    "## A paired t-test is designed to compare the means of the same group or item under two separate scenarios.\n",
    "\n",
    "### An unpaired t-test compares the means of two independent or unrelated groups."
   ]
  },
  {
   "cell_type": "code",
   "execution_count": 34,
   "metadata": {},
   "outputs": [
    {
     "name": "stdout",
     "output_type": "stream",
     "text": [
      "\u001b[1mLength of June and December lists are 1700 and 1517 respectively\u001b[0m\n"
     ]
    }
   ],
   "source": [
    "# Let's design a query of observed temperatures in June across all available years\n",
    "June_temp = session.query(Measurement.tobs).\\\n",
    "                           filter(func.strftime(\"%m\", Measurement.date) == \"06\").all()\n",
    "# Filter out null values from the June_Temp\n",
    "June_list = [] # Create a new list\n",
    "for temp in June_temp: # Append to the new list\n",
    "    if type(temp.tobs) != 0:\n",
    "        June_list.append({\"Temperature\":temp.tobs})\n",
    "# Let's design a query of observed temperatures in December across all available years\n",
    "Dec_temp = session.query(Measurement.tobs).\\\n",
    "                           filter(func.strftime(\"%m\", Measurement.date) == \"12\").all()\n",
    "# Filter out null values from the June_Temp\n",
    "Dec_list = [] # Create a new list\n",
    "for temp in Dec_temp: # Append to the new list\n",
    "    if type(temp.tobs) != 0:\n",
    "        Dec_list.append({\"Temperature\":temp.tobs})\n",
    "# Display the length of both list\n",
    "print('\\033[1m'+\"Length of June and December lists are {} and {} respectively\".format(len(June_list),len(Dec_list))+'\\033[0m')"
   ]
  },
  {
   "cell_type": "code",
   "execution_count": 35,
   "metadata": {},
   "outputs": [
    {
     "data": {
      "text/html": [
       "<div>\n",
       "<style scoped>\n",
       "    .dataframe tbody tr th:only-of-type {\n",
       "        vertical-align: middle;\n",
       "    }\n",
       "\n",
       "    .dataframe tbody tr th {\n",
       "        vertical-align: top;\n",
       "    }\n",
       "\n",
       "    .dataframe thead th {\n",
       "        text-align: right;\n",
       "    }\n",
       "</style>\n",
       "<table border=\"1\" class=\"dataframe\">\n",
       "  <thead>\n",
       "    <tr style=\"text-align: right;\">\n",
       "      <th></th>\n",
       "      <th>June</th>\n",
       "      <th>December</th>\n",
       "    </tr>\n",
       "  </thead>\n",
       "  <tbody>\n",
       "    <tr>\n",
       "      <th>0</th>\n",
       "      <td>78.0</td>\n",
       "      <td>76.0</td>\n",
       "    </tr>\n",
       "    <tr>\n",
       "      <th>1</th>\n",
       "      <td>76.0</td>\n",
       "      <td>74.0</td>\n",
       "    </tr>\n",
       "    <tr>\n",
       "      <th>2</th>\n",
       "      <td>78.0</td>\n",
       "      <td>74.0</td>\n",
       "    </tr>\n",
       "    <tr>\n",
       "      <th>3</th>\n",
       "      <td>76.0</td>\n",
       "      <td>64.0</td>\n",
       "    </tr>\n",
       "    <tr>\n",
       "      <th>4</th>\n",
       "      <td>77.0</td>\n",
       "      <td>64.0</td>\n",
       "    </tr>\n",
       "  </tbody>\n",
       "</table>\n",
       "</div>"
      ],
      "text/plain": [
       "   June  December\n",
       "0  78.0      76.0\n",
       "1  76.0      74.0\n",
       "2  78.0      74.0\n",
       "3  76.0      64.0\n",
       "4  77.0      64.0"
      ]
     },
     "execution_count": 35,
     "metadata": {},
     "output_type": "execute_result"
    }
   ],
   "source": [
    "# Let's create a DataFrame for the month of June with June list of temperatures\n",
    "df_June = pd.DataFrame(June_list)\n",
    "# Rename the column\n",
    "df_June.rename(columns={\"Temperature\": \"June\"}, inplace=True)\n",
    "# Let's create a DataFrame for the month of December with December list of temperatures\n",
    "df_Dec = pd.DataFrame(Dec_list)\n",
    "# Rename the column\n",
    "df_Dec.rename(columns={\"Temperature\": \"December\"}, inplace=True)\n",
    "# Merge the two dataframe into a single dataframe\n",
    "df_combined = pd.merge(df_June, df_Dec, left_index=True, right_index=True)\n",
    "df_combined.head() # Display the first 5 rows"
   ]
  },
  {
   "cell_type": "markdown",
   "metadata": {},
   "source": [
    "## Box Plot of observed temperatures in June vs. December\n"
   ]
  },
  {
   "cell_type": "code",
   "execution_count": 36,
   "metadata": {},
   "outputs": [
    {
     "data": {
      "image/png": "[encoded data removed]",
      "text/plain": [
       "<Figure size 720x576 with 1 Axes>"
      ]
     },
     "metadata": {},
     "output_type": "display_data"
    }
   ],
   "source": [
    "import numpy as np\n",
    "import matplotlib.pyplot as plt\n",
    "# Create figure and plot space\n",
    "fig, ax = plt.subplots(figsize=(10, 8))\n",
    "box_data = [df_combined[\"June\"],df_combined[\"December\"]]\n",
    "# Creating artist customisation\n",
    "boxprops = dict(linestyle='-', linewidth=2, color='blue')\n",
    "medianprops = dict(linestyle='-', linewidth=3, color='firebrick')\n",
    "red_diamond = dict(markerfacecolor='r', marker='D', markersize = 12)\n",
    "meanlineprops = dict(linestyle='--', linewidth=3, color='green')\n",
    "lineprops = {'color': 'b', 'linewidth': 3}\n",
    "# Create the plot\n",
    "bplot = ax.boxplot(box_data,labels=[\"June\",\"December\"],notch=True,\\\n",
    "           flierprops=red_diamond,boxprops=boxprops,\\\n",
    "           medianprops=medianprops,meanline=True,whiskerprops = lineprops,\\\n",
    "           showmeans=True,meanprops=meanlineprops,patch_artist=True\n",
    "          )\n",
    "# fill with colors\n",
    "colors = ['pink', 'lightblue']\n",
    "for patch, color in zip(bplot['boxes'], colors):\n",
    "        patch.set_facecolor(color)\n",
    "# Customize axis labels\n",
    "ax.tick_params(axis='both', which='major', labelsize=16)\n",
    "# Customize axis spines\n",
    "for spine in ax.spines.values():\n",
    "    spine.set_edgecolor('blue')\n",
    "for tick in ax.get_xticklabels():\n",
    "    tick.set_color('black')\n",
    "for tick in ax.get_yticklabels():\n",
    "    tick.set_color('black')    \n",
    "    \n",
    "# Set title and labels for axes\n",
    "ax.set_xlabel(\"Month\",color = \"black\",fontweight = \"bold\")\n",
    "ax.set_ylabel(\"Observed Temperatures (F)\",color=\"black\",fontweight =\"bold\")\n",
    "ax.set_title(\"Box Plot of Observed Temperatures\\n June vs. December\",color=\"blue\",fontweight = \"bold\")\n",
    "plt.grid(color=\"lightblue\",linestyle = \"solid\",linewidth = 2)\n",
    "plt.tight_layout()\n",
    "# Save the figure\n",
    "plt.savefig(\"Images/BoxPlot_Obs_Temp.png\")\n",
    "plt.show()"
   ]
  },
  {
   "cell_type": "markdown",
   "metadata": {},
   "source": [
    "## Unpaired (independent) t-test between observed temperatures in June vs. December"
   ]
  },
  {
   "cell_type": "code",
   "execution_count": 37,
   "metadata": {},
   "outputs": [
    {
     "name": "stdout",
     "output_type": "stream",
     "text": [
      "\u001b[1mCalculated t-statistic: 33.85138883503442 and two-tailed p-value: 2.3336388855232838e-213\u001b[0m\n"
     ]
    }
   ],
   "source": [
    "# Necessary imports for statistical analysis\n",
    "from scipy import stats\n",
    "from scipy import mean\n",
    "# Unpaired (independent) t-test\n",
    "result = stats.ttest_ind(df_combined[\"June\"],df_combined[\"December\"])\n",
    "# Display t-test result\n",
    "print('\\033[1m'+\"Calculated t-statistic: {} and two-tailed p-value: {}\".format(result[0],result[1])+'\\033[0m')"
   ]
  },
  {
   "cell_type": "markdown",
   "metadata": {},
   "source": [
    "# Bonus: Temperature Analysis II\n",
    "\n",
    "## \"calc_temps\" function that returns min, max and avg. temperatures for a list of dates\n",
    "\n",
    "### Arguments : start_date & end_date (string): A date string in the format %Y-%m-%d\n",
    "\n",
    "#### Returns: TMIN, TAVG, and TMAX"
   ]
  },
  {
   "cell_type": "code",
   "execution_count": 38,
   "metadata": {},
   "outputs": [],
   "source": [
    "# This function called `calc_temps` will accept start date and end date in the format '%Y-%m-%d' \n",
    "# and return the minimum, average, and maximum temperatures for that range of dates\n",
    "def calc_temps(start_date, end_date):\n",
    "    return session.query(func.min(Measurement.tobs), func.avg(Measurement.tobs), func.max(Measurement.tobs)).\\\n",
    "           filter(Measurement.date >= start_date).filter(Measurement.date <= end_date).all()"
   ]
  },
  {
   "cell_type": "markdown",
   "metadata": {},
   "source": [
    "# Let's choose a start date and end date for our trip.\n",
    "\n",
    "#### Start Date : 2017-07-03\n",
    "#### End Date : 2017-07-17"
   ]
  },
  {
   "cell_type": "code",
   "execution_count": 39,
   "metadata": {},
   "outputs": [
    {
     "name": "stdout",
     "output_type": "stream",
     "text": [
      "\u001b[1mMin. Temp: 69.0F, Avg. Temp: 78.2F and Max. Temp: 87.0F\u001b[0m\n"
     ]
    }
   ],
   "source": [
    "# Let's define the start and end days of our trip\n",
    "start_date = dt.date(2017,7,3) # Start date\n",
    "end_date = dt.date(2017,7,17) # End date\n",
    "# Let's find the minimum, maximum and average temperatures during our trip\n",
    "trip_temp = calc_temps(start_date,end_date)\n",
    "# Display the temperatures\n",
    "print('\\033[1m'+\"Min. Temp: {}F, Avg. Temp: {}F and Max. Temp: {}F\".format(trip_temp[0][0],round(trip_temp[0][1],1),trip_temp[0][2])+'\\033[0m')"
   ]
  },
  {
   "cell_type": "code",
   "execution_count": 40,
   "metadata": {},
   "outputs": [
    {
     "data": {
      "text/html": [
       "<div>\n",
       "<style scoped>\n",
       "    .dataframe tbody tr th:only-of-type {\n",
       "        vertical-align: middle;\n",
       "    }\n",
       "\n",
       "    .dataframe tbody tr th {\n",
       "        vertical-align: top;\n",
       "    }\n",
       "\n",
       "    .dataframe thead th {\n",
       "        text-align: right;\n",
       "    }\n",
       "</style>\n",
       "<table border=\"1\" class=\"dataframe\">\n",
       "  <thead>\n",
       "    <tr style=\"text-align: right;\">\n",
       "      <th></th>\n",
       "      <th>Min_Temp</th>\n",
       "      <th>Avg_Temp</th>\n",
       "      <th>Max_Temp</th>\n",
       "      <th>Max_Min</th>\n",
       "    </tr>\n",
       "  </thead>\n",
       "  <tbody>\n",
       "    <tr>\n",
       "      <th>0</th>\n",
       "      <td>69.0</td>\n",
       "      <td>78.221053</td>\n",
       "      <td>87.0</td>\n",
       "      <td>18.0</td>\n",
       "    </tr>\n",
       "  </tbody>\n",
       "</table>\n",
       "</div>"
      ],
      "text/plain": [
       "   Min_Temp   Avg_Temp  Max_Temp  Max_Min\n",
       "0      69.0  78.221053      87.0     18.0"
      ]
     },
     "execution_count": 40,
     "metadata": {},
     "output_type": "execute_result"
    }
   ],
   "source": [
    "# Load the query results into a Pandas DataFrame \n",
    "df_trip_temp = pd.DataFrame(trip_temp, columns=[\"Min_Temp\",\"Avg_Temp\",\"Max_Temp\"])\n",
    "# Let's create a peak-peak temperature column\n",
    "df_trip_temp[\"Max_Min\"] = df_trip_temp[\"Max_Temp\"] - df_trip_temp[\"Min_Temp\"]\n",
    "# Display the dataframe\n",
    "df_trip_temp"
   ]
  },
  {
   "cell_type": "code",
   "execution_count": 41,
   "metadata": {},
   "outputs": [
    {
     "data": {
      "image/png": "[encoded data removed]",
      "text/plain": [
       "<Figure size 432x720 with 1 Axes>"
      ]
     },
     "metadata": {},
     "output_type": "display_data"
    }
   ],
   "source": [
    "import matplotlib.dates as mdates\n",
    "from matplotlib.dates import DateFormatter\n",
    "\n",
    "# Create figure and plot space\n",
    "fig, ax = plt.subplots(figsize=(6, 10))\n",
    "\n",
    "ax.bar(0,df_trip_temp[\"Avg_Temp\"],yerr=df_trip_temp[\"Max_Min\"],color = \"orange\", alpha = 0.7,edgecolor=\"red\",capsize=30)\n",
    "# Customize axis labels\n",
    "ax.tick_params(axis='both', which='major', labelsize=16)\n",
    "# Customize axis spines\n",
    "for spine in ax.spines.values():\n",
    "    spine.set_edgecolor('blue')\n",
    "for tick in ax.get_xticklabels():\n",
    "    tick.set_color('black')\n",
    "for tick in ax.get_yticklabels():\n",
    "    tick.set_color('black')    \n",
    "    \n",
    "# Set title and labels for axes\n",
    "ax.get_xaxis().set_visible(False)\n",
    "ax.set_ylim(0,100)\n",
    "ax.set_ylabel(\"Temperature (F)\",color=\"black\",fontweight =\"bold\")\n",
    "ax.set_title(\"Trip Average Temperature\\n3rd July 2017 - 17th July 2017\",color=\"blue\",fontweight = \"bold\")\n",
    "\n",
    "plt.grid(color=\"lightblue\",linestyle = \"solid\",linewidth = 3)\n",
    "plt.tight_layout()\n",
    "# Save the figure\n",
    "plt.savefig(\"Images/Trip_Avg_Temp.png\")\n",
    "plt.show()"
   ]
  },
  {
   "cell_type": "markdown",
   "metadata": {},
   "source": [
    "# Bonus: Daily Rainfall\n",
    "\n",
    "## Calculate the total amount of rainfall per weather station for our trip dates.\n",
    "### Sort this in descending order by precipitation amount and list the station, name, latitude, longitude, and elevation\n",
    "#### Total precipitation per weather station for our trip duration"
   ]
  },
  {
   "cell_type": "code",
   "execution_count": 42,
   "metadata": {},
   "outputs": [
    {
     "data": {
      "text/html": [
       "<div>\n",
       "<style scoped>\n",
       "    .dataframe tbody tr th:only-of-type {\n",
       "        vertical-align: middle;\n",
       "    }\n",
       "\n",
       "    .dataframe tbody tr th {\n",
       "        vertical-align: top;\n",
       "    }\n",
       "\n",
       "    .dataframe thead th {\n",
       "        text-align: right;\n",
       "    }\n",
       "</style>\n",
       "<table border=\"1\" class=\"dataframe\">\n",
       "  <thead>\n",
       "    <tr style=\"text-align: right;\">\n",
       "      <th></th>\n",
       "      <th>Total_prcp</th>\n",
       "      <th>Station_id</th>\n",
       "      <th>Station_name</th>\n",
       "      <th>Latitude</th>\n",
       "      <th>Longitude</th>\n",
       "      <th>Elevation</th>\n",
       "    </tr>\n",
       "  </thead>\n",
       "  <tbody>\n",
       "    <tr>\n",
       "      <th>0</th>\n",
       "      <td>3.16</td>\n",
       "      <td>USC00516128</td>\n",
       "      <td>MANOA LYON ARBO 785.2, HI US</td>\n",
       "      <td>21.33310</td>\n",
       "      <td>-157.80250</td>\n",
       "      <td>152.4</td>\n",
       "    </tr>\n",
       "    <tr>\n",
       "      <th>1</th>\n",
       "      <td>1.72</td>\n",
       "      <td>USC00519281</td>\n",
       "      <td>WAIHEE 837.5, HI US</td>\n",
       "      <td>21.45167</td>\n",
       "      <td>-157.84889</td>\n",
       "      <td>32.9</td>\n",
       "    </tr>\n",
       "    <tr>\n",
       "      <th>2</th>\n",
       "      <td>0.91</td>\n",
       "      <td>USC00513117</td>\n",
       "      <td>KANEOHE 838.1, HI US</td>\n",
       "      <td>21.42340</td>\n",
       "      <td>-157.80150</td>\n",
       "      <td>14.6</td>\n",
       "    </tr>\n",
       "    <tr>\n",
       "      <th>3</th>\n",
       "      <td>0.67</td>\n",
       "      <td>USC00514830</td>\n",
       "      <td>KUALOA RANCH HEADQUARTERS 886.9, HI US</td>\n",
       "      <td>21.52130</td>\n",
       "      <td>-157.83740</td>\n",
       "      <td>7.0</td>\n",
       "    </tr>\n",
       "    <tr>\n",
       "      <th>4</th>\n",
       "      <td>0.22</td>\n",
       "      <td>USC00519397</td>\n",
       "      <td>WAIKIKI 717.2, HI US</td>\n",
       "      <td>21.27160</td>\n",
       "      <td>-157.81680</td>\n",
       "      <td>3.0</td>\n",
       "    </tr>\n",
       "    <tr>\n",
       "      <th>5</th>\n",
       "      <td>0.13</td>\n",
       "      <td>USC00519523</td>\n",
       "      <td>WAIMANALO EXPERIMENTAL FARM, HI US</td>\n",
       "      <td>21.33556</td>\n",
       "      <td>-157.71139</td>\n",
       "      <td>19.5</td>\n",
       "    </tr>\n",
       "    <tr>\n",
       "      <th>6</th>\n",
       "      <td>NaN</td>\n",
       "      <td>USC00517948</td>\n",
       "      <td>PEARL CITY, HI US</td>\n",
       "      <td>21.39340</td>\n",
       "      <td>-157.97510</td>\n",
       "      <td>11.9</td>\n",
       "    </tr>\n",
       "  </tbody>\n",
       "</table>\n",
       "</div>"
      ],
      "text/plain": [
       "   Total_prcp   Station_id                            Station_name  Latitude  \\\n",
       "0        3.16  USC00516128            MANOA LYON ARBO 785.2, HI US  21.33310   \n",
       "1        1.72  USC00519281                     WAIHEE 837.5, HI US  21.45167   \n",
       "2        0.91  USC00513117                    KANEOHE 838.1, HI US  21.42340   \n",
       "3        0.67  USC00514830  KUALOA RANCH HEADQUARTERS 886.9, HI US  21.52130   \n",
       "4        0.22  USC00519397                    WAIKIKI 717.2, HI US  21.27160   \n",
       "5        0.13  USC00519523      WAIMANALO EXPERIMENTAL FARM, HI US  21.33556   \n",
       "6         NaN  USC00517948                       PEARL CITY, HI US  21.39340   \n",
       "\n",
       "   Longitude  Elevation  \n",
       "0 -157.80250      152.4  \n",
       "1 -157.84889       32.9  \n",
       "2 -157.80150       14.6  \n",
       "3 -157.83740        7.0  \n",
       "4 -157.81680        3.0  \n",
       "5 -157.71139       19.5  \n",
       "6 -157.97510       11.9  "
      ]
     },
     "execution_count": 42,
     "metadata": {},
     "output_type": "execute_result"
    }
   ],
   "source": [
    "# Let's design a list of query items\n",
    "query_items = [func.sum(Measurement.prcp),Station.station,Station.name,\\\n",
    "        Station.latitude,Station.longitude,Station.elevation]\n",
    "# Let's create the query by joining Measurement and Station tables\n",
    "results = session.query(*query_items).group_by(Measurement.station).\\\n",
    "            order_by(func.sum(Measurement.prcp).desc()).\\\n",
    "              outerjoin(Station, Station.station==Measurement.station).\\\n",
    "                 filter(Measurement.date >= start_date).filter(Measurement.date <= end_date).all()\n",
    "# Load the query results into a Pandas DataFrame \n",
    "df_precipitation = pd.DataFrame(results, columns=[\"Total_prcp\",\"Station_id\",\"Station_name\",\"Latitude\",\"Longitude\",\"Elevation\"])\n",
    "df_precipitation"
   ]
  },
  {
   "cell_type": "markdown",
   "metadata": {},
   "source": [
    "# Average temperature per weather station for our trip duration"
   ]
  },
  {
   "cell_type": "code",
   "execution_count": 43,
   "metadata": {},
   "outputs": [
    {
     "data": {
      "text/html": [
       "<div>\n",
       "<style scoped>\n",
       "    .dataframe tbody tr th:only-of-type {\n",
       "        vertical-align: middle;\n",
       "    }\n",
       "\n",
       "    .dataframe tbody tr th {\n",
       "        vertical-align: top;\n",
       "    }\n",
       "\n",
       "    .dataframe thead th {\n",
       "        text-align: right;\n",
       "    }\n",
       "</style>\n",
       "<table border=\"1\" class=\"dataframe\">\n",
       "  <thead>\n",
       "    <tr style=\"text-align: right;\">\n",
       "      <th></th>\n",
       "      <th>Avg_Temp</th>\n",
       "      <th>Station_id</th>\n",
       "      <th>Station_name</th>\n",
       "      <th>Latitude</th>\n",
       "      <th>Longitude</th>\n",
       "      <th>Elevation</th>\n",
       "    </tr>\n",
       "  </thead>\n",
       "  <tbody>\n",
       "    <tr>\n",
       "      <th>0</th>\n",
       "      <td>80.625000</td>\n",
       "      <td>USC00517948</td>\n",
       "      <td>PEARL CITY, HI US</td>\n",
       "      <td>21.39340</td>\n",
       "      <td>-157.97510</td>\n",
       "      <td>11.9</td>\n",
       "    </tr>\n",
       "    <tr>\n",
       "      <th>1</th>\n",
       "      <td>80.461538</td>\n",
       "      <td>USC00514830</td>\n",
       "      <td>KUALOA RANCH HEADQUARTERS 886.9, HI US</td>\n",
       "      <td>21.52130</td>\n",
       "      <td>-157.83740</td>\n",
       "      <td>7.0</td>\n",
       "    </tr>\n",
       "    <tr>\n",
       "      <th>2</th>\n",
       "      <td>80.428571</td>\n",
       "      <td>USC00519523</td>\n",
       "      <td>WAIMANALO EXPERIMENTAL FARM, HI US</td>\n",
       "      <td>21.33556</td>\n",
       "      <td>-157.71139</td>\n",
       "      <td>19.5</td>\n",
       "    </tr>\n",
       "    <tr>\n",
       "      <th>3</th>\n",
       "      <td>79.666667</td>\n",
       "      <td>USC00519397</td>\n",
       "      <td>WAIKIKI 717.2, HI US</td>\n",
       "      <td>21.27160</td>\n",
       "      <td>-157.81680</td>\n",
       "      <td>3.0</td>\n",
       "    </tr>\n",
       "    <tr>\n",
       "      <th>4</th>\n",
       "      <td>77.000000</td>\n",
       "      <td>USC00513117</td>\n",
       "      <td>KANEOHE 838.1, HI US</td>\n",
       "      <td>21.42340</td>\n",
       "      <td>-157.80150</td>\n",
       "      <td>14.6</td>\n",
       "    </tr>\n",
       "    <tr>\n",
       "      <th>5</th>\n",
       "      <td>75.800000</td>\n",
       "      <td>USC00519281</td>\n",
       "      <td>WAIHEE 837.5, HI US</td>\n",
       "      <td>21.45167</td>\n",
       "      <td>-157.84889</td>\n",
       "      <td>32.9</td>\n",
       "    </tr>\n",
       "    <tr>\n",
       "      <th>6</th>\n",
       "      <td>75.133333</td>\n",
       "      <td>USC00516128</td>\n",
       "      <td>MANOA LYON ARBO 785.2, HI US</td>\n",
       "      <td>21.33310</td>\n",
       "      <td>-157.80250</td>\n",
       "      <td>152.4</td>\n",
       "    </tr>\n",
       "  </tbody>\n",
       "</table>\n",
       "</div>"
      ],
      "text/plain": [
       "    Avg_Temp   Station_id                            Station_name  Latitude  \\\n",
       "0  80.625000  USC00517948                       PEARL CITY, HI US  21.39340   \n",
       "1  80.461538  USC00514830  KUALOA RANCH HEADQUARTERS 886.9, HI US  21.52130   \n",
       "2  80.428571  USC00519523      WAIMANALO EXPERIMENTAL FARM, HI US  21.33556   \n",
       "3  79.666667  USC00519397                    WAIKIKI 717.2, HI US  21.27160   \n",
       "4  77.000000  USC00513117                    KANEOHE 838.1, HI US  21.42340   \n",
       "5  75.800000  USC00519281                     WAIHEE 837.5, HI US  21.45167   \n",
       "6  75.133333  USC00516128            MANOA LYON ARBO 785.2, HI US  21.33310   \n",
       "\n",
       "   Longitude  Elevation  \n",
       "0 -157.97510       11.9  \n",
       "1 -157.83740        7.0  \n",
       "2 -157.71139       19.5  \n",
       "3 -157.81680        3.0  \n",
       "4 -157.80150       14.6  \n",
       "5 -157.84889       32.9  \n",
       "6 -157.80250      152.4  "
      ]
     },
     "execution_count": 43,
     "metadata": {},
     "output_type": "execute_result"
    }
   ],
   "source": [
    "# Let's design a list of query items\n",
    "query_items = [func.avg(Measurement.tobs),Station.station,Station.name,\\\n",
    "        Station.latitude,Station.longitude,Station.elevation]\n",
    "# Let's create the query by joining Measurement and Station tables\n",
    "results = session.query(*query_items).group_by(Measurement.station).\\\n",
    "            order_by(func.avg(Measurement.tobs).desc()).\\\n",
    "              outerjoin(Station, Station.station==Measurement.station).\\\n",
    "                 filter(Measurement.date >= start_date).filter(Measurement.date <= end_date).all()\n",
    "# Load the query results into a Pandas DataFrame \n",
    "df_temperature = pd.DataFrame(results, columns=[\"Avg_Temp\",\"Station_id\",\"Station_name\",\"Latitude\",\"Longitude\",\"Elevation\"])\n",
    "df_temperature"
   ]
  },
  {
   "cell_type": "code",
   "execution_count": 44,
   "metadata": {},
   "outputs": [
    {
     "data": {
      "image/png": "[encoded data removed]",
      "text/plain": [
       "<Figure size 720x576 with 2 Axes>"
      ]
     },
     "metadata": {},
     "output_type": "display_data"
    }
   ],
   "source": [
    "import numpy as np\n",
    "import matplotlib.pyplot as plt\n",
    "\n",
    "# Create figure and plot space\n",
    "fig, (ax1,ax2) = plt.subplots(2,sharex=True,figsize=(10,8))\n",
    "# Create the plot\n",
    "ax1.plot(df_temperature[\"Elevation\"],df_temperature[\"Avg_Temp\"],color=\"green\",\\\n",
    "         marker='o',markersize=12,linewidth = 3)\n",
    "ax2.plot(df_precipitation[\"Elevation\"],df_precipitation[\"Total_prcp\"],color=\"orange\",\\\n",
    "         marker='o',markersize=12,linewidth = 3)\n",
    "# Customize axis labels\n",
    "ax.tick_params(axis='both', which='major', labelsize=18)\n",
    "# Customize axis spine\n",
    "for ax in (ax1,ax2):\n",
    "    for spine in ax.spines.values():\n",
    "        spine.set_edgecolor('blue')\n",
    "    for tick in ax.get_xticklabels():\n",
    "        tick.set_color('black')\n",
    "    for tick in ax.get_yticklabels():\n",
    "        tick.set_color('black')       \n",
    "# Set title and labels for axes\n",
    "ax2.set_xlabel(\"Station Elevation\",color = \"black\",fontweight = \"bold\")\n",
    "ax1.set_ylabel(\"Average Temp\",color=\"black\",fontweight =\"bold\")\n",
    "ax2.set_ylabel(\"Total Precipitation\",color=\"black\",fontweight =\"bold\")\n",
    "ax1.set_title(\"Average Temp,Total Precipitation vs. Station Elevation\\n3rd July 2017 - 17th July 2017\",color=\"blue\",fontweight = \"bold\")\n",
    "# Setting x-limits\n",
    "ax1.set_xlim(0,160)\n",
    "# Customizing grid for subplots\n",
    "for ax in (ax1,ax2):\n",
    "    ax.grid(color=\"lightblue\",linestyle = \"solid\",linewidth = 2)\n",
    "plt.tight_layout()\n",
    "# Save the figure\n",
    "plt.savefig(\"Images/Avg_Temp_Prcp.png\")\n",
    "plt.show()\n"
   ]
  },
  {
   "cell_type": "markdown",
   "metadata": {},
   "source": [
    "# Observations from Average temperature & Precipitation study\n",
    "### Precipitation is higher for stations with higher elevation\n",
    "##### Average Temperature decreases with increasing station elevation"
   ]
  },
  {
   "cell_type": "markdown",
   "metadata": {},
   "source": [
    "\n",
    "\n",
    "# Bonus: Daily Normals\n",
    "### \"daily normal\" function that returns min, max and avg. temperatures for a date\n",
    "#### Arguments : date (string): A date string in the format %m-%d\n",
    "##### Returns: A list to tuples containing the daily normals TMIN, TAVG, and TMAX"
   ]
  },
  {
   "cell_type": "code",
   "execution_count": 45,
   "metadata": {},
   "outputs": [
    {
     "data": {
      "text/plain": [
       "[(62.0, 69.15384615384616, 77.0)]"
      ]
     },
     "execution_count": 45,
     "metadata": {},
     "output_type": "execute_result"
    }
   ],
   "source": [
    "# Function \"daily_normals\" - returns a tuple of min, avg. and max observed temperature of a particular date\n",
    "def daily_normals(date):\n",
    "    sel = [func.min(Measurement.tobs), func.avg(Measurement.tobs), func.max(Measurement.tobs)]\n",
    "    return session.query(*sel).filter(func.strftime(\"%m-%d\", Measurement.date) == date).all()\n",
    "    \n",
    "daily_normals(\"01-01\")"
   ]
  },
  {
   "cell_type": "code",
   "execution_count": 46,
   "metadata": {},
   "outputs": [
    {
     "data": {
      "text/html": [
       "<div>\n",
       "<style scoped>\n",
       "    .dataframe tbody tr th:only-of-type {\n",
       "        vertical-align: middle;\n",
       "    }\n",
       "\n",
       "    .dataframe tbody tr th {\n",
       "        vertical-align: top;\n",
       "    }\n",
       "\n",
       "    .dataframe thead th {\n",
       "        text-align: right;\n",
       "    }\n",
       "</style>\n",
       "<table border=\"1\" class=\"dataframe\">\n",
       "  <thead>\n",
       "    <tr style=\"text-align: right;\">\n",
       "      <th></th>\n",
       "      <th>Min_Temp</th>\n",
       "      <th>Avg_Temp</th>\n",
       "      <th>Max_Temp</th>\n",
       "    </tr>\n",
       "  </thead>\n",
       "  <tbody>\n",
       "    <tr>\n",
       "      <th>2017-07-03</th>\n",
       "      <td>68.0</td>\n",
       "      <td>75.320755</td>\n",
       "      <td>87.0</td>\n",
       "    </tr>\n",
       "    <tr>\n",
       "      <th>2017-07-04</th>\n",
       "      <td>70.0</td>\n",
       "      <td>76.571429</td>\n",
       "      <td>81.0</td>\n",
       "    </tr>\n",
       "    <tr>\n",
       "      <th>2017-07-05</th>\n",
       "      <td>66.0</td>\n",
       "      <td>75.000000</td>\n",
       "      <td>81.0</td>\n",
       "    </tr>\n",
       "    <tr>\n",
       "      <th>2017-07-06</th>\n",
       "      <td>69.0</td>\n",
       "      <td>75.000000</td>\n",
       "      <td>81.0</td>\n",
       "    </tr>\n",
       "    <tr>\n",
       "      <th>2017-07-07</th>\n",
       "      <td>69.0</td>\n",
       "      <td>74.910714</td>\n",
       "      <td>82.0</td>\n",
       "    </tr>\n",
       "    <tr>\n",
       "      <th>2017-07-08</th>\n",
       "      <td>69.0</td>\n",
       "      <td>76.083333</td>\n",
       "      <td>83.0</td>\n",
       "    </tr>\n",
       "    <tr>\n",
       "      <th>2017-07-09</th>\n",
       "      <td>68.0</td>\n",
       "      <td>76.192982</td>\n",
       "      <td>83.0</td>\n",
       "    </tr>\n",
       "    <tr>\n",
       "      <th>2017-07-10</th>\n",
       "      <td>68.0</td>\n",
       "      <td>75.620690</td>\n",
       "      <td>82.0</td>\n",
       "    </tr>\n",
       "    <tr>\n",
       "      <th>2017-07-11</th>\n",
       "      <td>70.0</td>\n",
       "      <td>75.789474</td>\n",
       "      <td>81.0</td>\n",
       "    </tr>\n",
       "    <tr>\n",
       "      <th>2017-07-12</th>\n",
       "      <td>67.0</td>\n",
       "      <td>75.964912</td>\n",
       "      <td>82.0</td>\n",
       "    </tr>\n",
       "    <tr>\n",
       "      <th>2017-07-13</th>\n",
       "      <td>69.0</td>\n",
       "      <td>76.189655</td>\n",
       "      <td>81.0</td>\n",
       "    </tr>\n",
       "    <tr>\n",
       "      <th>2017-07-14</th>\n",
       "      <td>61.0</td>\n",
       "      <td>76.228070</td>\n",
       "      <td>82.0</td>\n",
       "    </tr>\n",
       "    <tr>\n",
       "      <th>2017-07-15</th>\n",
       "      <td>68.0</td>\n",
       "      <td>76.254237</td>\n",
       "      <td>82.0</td>\n",
       "    </tr>\n",
       "    <tr>\n",
       "      <th>2017-07-16</th>\n",
       "      <td>70.0</td>\n",
       "      <td>76.344828</td>\n",
       "      <td>83.0</td>\n",
       "    </tr>\n",
       "    <tr>\n",
       "      <th>2017-07-17</th>\n",
       "      <td>70.0</td>\n",
       "      <td>76.301887</td>\n",
       "      <td>83.0</td>\n",
       "    </tr>\n",
       "  </tbody>\n",
       "</table>\n",
       "</div>"
      ],
      "text/plain": [
       "            Min_Temp   Avg_Temp  Max_Temp\n",
       "2017-07-03      68.0  75.320755      87.0\n",
       "2017-07-04      70.0  76.571429      81.0\n",
       "2017-07-05      66.0  75.000000      81.0\n",
       "2017-07-06      69.0  75.000000      81.0\n",
       "2017-07-07      69.0  74.910714      82.0\n",
       "2017-07-08      69.0  76.083333      83.0\n",
       "2017-07-09      68.0  76.192982      83.0\n",
       "2017-07-10      68.0  75.620690      82.0\n",
       "2017-07-11      70.0  75.789474      81.0\n",
       "2017-07-12      67.0  75.964912      82.0\n",
       "2017-07-13      69.0  76.189655      81.0\n",
       "2017-07-14      61.0  76.228070      82.0\n",
       "2017-07-15      68.0  76.254237      82.0\n",
       "2017-07-16      70.0  76.344828      83.0\n",
       "2017-07-17      70.0  76.301887      83.0"
      ]
     },
     "execution_count": 46,
     "metadata": {},
     "output_type": "execute_result"
    }
   ],
   "source": [
    "from datetime import timedelta\n",
    "#Let's create a list of dates corresponding to our trip\n",
    "Trip_Dates = [start_date - dt.timedelta(days=-x) for x in range(15)]\n",
    "#Let's convert the dates into correct format\n",
    "trip_dates = [date.strftime(\"%m-%d\") for date in Trip_Dates]\n",
    "# Let's calculate normals for each date in the list\n",
    "normals = [daily_normals(date) for date in trip_dates]\n",
    "# Since normals is a list of lists, let's flatten it\n",
    "trip_normals = [item for sublist in normals for item in sublist]\n",
    "# Load trip_normals into a Pandas DataFrame with index from trip_dates\n",
    "df_trip_normals = pd.DataFrame(trip_normals,index = Trip_Dates, columns=[\"Min_Temp\",\"Avg_Temp\",\"Max_Temp\"])\n",
    "# Display the dataframe\n",
    "df_trip_normals"
   ]
  },
  {
   "cell_type": "code",
   "execution_count": 48,
   "metadata": {},
   "outputs": [
    {
     "data": {
      "image/png": "[encoded data removed]",
      "text/plain": [
       "<Figure size 720x576 with 1 Axes>"
      ]
     },
     "metadata": {},
     "output_type": "display_data"
    }
   ],
   "source": [
    "import matplotlib.pyplot as plt\n",
    "import seaborn as sns\n",
    "# Create a font library\n",
    "titlefont = {\"fontname\":\"Times New Roman\"}\n",
    "\n",
    "# Set the style for seaborn plot\n",
    "sns.set_style(\"darkgrid\")\n",
    "# Set font scale and reduce grid line width\n",
    "sns.set_context(\"poster\",font_scale=0.9, rc={\"grid.linewidth\":2})\n",
    "# Define the figure size\n",
    "df_trip_normals.plot(kind=\"area\",stacked=False,rot=90,alpha=0.3,linewidth=4,figsize=(10,8))\n",
    "# Display x & y-axis labels and a title for the area plot\n",
    "plt.title(\"Daily Temperature Normals During our Trip \",fontsize=26,color=\"black\",**titlefont)\n",
    "plt.xlabel(\"Date\",fontsize = 18,color=\"black\",**labelfont)\n",
    "plt.ylabel(\"Temperature (F)\",fontsize = 18,color=\"black\",**labelfont)\n",
    "# Setting x & y-limits\n",
    "plt.ylim(40,90)\n",
    "plt.xlim('2017-07-03','2017-07-17')\n",
    "# Customizing x & y-ticks\n",
    "plt.xticks(color=\"black\",fontsize=16,**labelfont)\n",
    "plt.yticks(color=\"black\",fontsize=16,**labelfont)\n",
    "# Customize the legend\n",
    "plt.legend(loc=\"best\",prop={'size':20})\n",
    "plt.tight_layout()\n",
    "# Save the figure\n",
    "plt.savefig(\"Images/AreaPlot_Temp_Normals.png\")\n",
    "plt.show()"
   ]
  },
  {
   "cell_type": "code",
   "execution_count": null,
   "metadata": {},
   "outputs": [],
   "source": []
  }
 ],
 "metadata": {
  "environment": {
   "name": "common-cpu.m56",
   "type": "gcloud",
   "uri": "gcr.io/deeplearning-platform-release/base-cpu:m56"
  },
  "kernelspec": {
   "display_name": "Python 3",
   "language": "python",
   "name": "python3"
  },
  "language_info": {
   "codemirror_mode": {
    "name": "ipython",
    "version": 3
   },
   "file_extension": ".py",
   "mimetype": "text/x-python",
   "name": "python",
   "nbconvert_exporter": "python",
   "pygments_lexer": "ipython3",
   "version": "3.7.8"
  }
 },
 "nbformat": 4,
 "nbformat_minor": 4
}
